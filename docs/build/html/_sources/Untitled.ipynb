{
 "cells": [
  {
   "cell_type": "code",
   "execution_count": 1,
   "id": "b6f88ed7-9474-439c-aef9-fe1495637266",
   "metadata": {},
   "outputs": [],
   "source": [
    "import numpy as np"
   ]
  },
  {
   "cell_type": "code",
   "execution_count": 4,
   "id": "df66c7a4-1ed2-4451-9130-fd2f8fe19e6e",
   "metadata": {},
   "outputs": [],
   "source": [
    "def test_fun(a, b=2, **kwargs):\n",
    "    print(\"b is %.1f.\" % b)\n",
    "    print(kwargs)\n",
    "    if 'test' in kwargs:\n",
    "        thing = kwargs['test']\n",
    "        print(type(thing))"
   ]
  },
  {
   "cell_type": "code",
   "execution_count": 5,
   "id": "bd7b11f9-0c13-4499-ae38-5f560339e75c",
   "metadata": {},
   "outputs": [
    {
     "name": "stdout",
     "output_type": "stream",
     "text": [
      "b is 3.0.\n",
      "{'test': 0}\n",
      "<class 'int'>\n"
     ]
    }
   ],
   "source": [
    "test_fun(1, b=3, test=0)"
   ]
  },
  {
   "cell_type": "code",
   "execution_count": 12,
   "id": "2fc3a763-c31d-4066-9558-d6d55d867d0b",
   "metadata": {},
   "outputs": [
    {
     "name": "stdout",
     "output_type": "stream",
     "text": [
      "0\n"
     ]
    }
   ],
   "source": [
    "a = 'hi'\n",
    "if (a is None) or (a not in [0,1,2,3]):\n",
    "    a = 0\n",
    "print(a)"
   ]
  },
  {
   "cell_type": "code",
   "execution_count": 18,
   "id": "715108a0-2016-4097-aa1f-405c770ec2da",
   "metadata": {},
   "outputs": [],
   "source": [
    "test = {}"
   ]
  },
  {
   "cell_type": "code",
   "execution_count": 20,
   "id": "7870f532-e7bb-4021-84bf-1ff830561ad5",
   "metadata": {},
   "outputs": [],
   "source": [
    "i=len(test.keys())"
   ]
  },
  {
   "cell_type": "code",
   "execution_count": 27,
   "id": "cee7ed30-08fc-49f6-aa4d-c304391ba4cf",
   "metadata": {},
   "outputs": [
    {
     "name": "stdout",
     "output_type": "stream",
     "text": [
      "fit01\n"
     ]
    }
   ],
   "source": [
    "new_key = \"fit%02i\" % (i+1)\n",
    "print(new_key)"
   ]
  },
  {
   "cell_type": "code",
   "execution_count": null,
   "id": "5582c481-09f3-451a-a877-8742fb598996",
   "metadata": {},
   "outputs": [],
   "source": []
  }
 ],
 "metadata": {
  "kernelspec": {
   "display_name": "Python 3 (ipykernel)",
   "language": "python",
   "name": "python3"
  },
  "language_info": {
   "codemirror_mode": {
    "name": "ipython",
    "version": 3
   },
   "file_extension": ".py",
   "mimetype": "text/x-python",
   "name": "python",
   "nbconvert_exporter": "python",
   "pygments_lexer": "ipython3",
   "version": "3.8.8"
  }
 },
 "nbformat": 4,
 "nbformat_minor": 5
}
